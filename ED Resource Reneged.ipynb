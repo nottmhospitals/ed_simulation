{
 "cells": [
  {
   "cell_type": "markdown",
   "id": "4e791277-3f91-4855-aba8-f84a7bf4d106",
   "metadata": {},
   "source": [
    "## Importing libaries"
   ]
  },
  {
   "cell_type": "code",
   "execution_count": null,
   "id": "b40d0042-8df0-4347-a7fc-31b082b59465",
   "metadata": {},
   "outputs": [],
   "source": [
    "import pandas as pd\n",
    "import seaborn as sns\n",
    "import simpy \n",
    "import numpy as np\n",
    "import scipy as spy\n",
    "import matplotlib.pyplot as plt\n",
    "from prophet import Prophet\n",
    "from datetime import datetime, timedelta\n",
    "import random"
   ]
  },
  {
   "cell_type": "markdown",
   "id": "f6f5ef9b-3962-43eb-927c-e7e63bd9e967",
   "metadata": {},
   "source": [
    "## Reading File"
   ]
  },
  {
   "cell_type": "code",
   "execution_count": null,
   "id": "39609c88-0512-4350-ab41-845edbf6dd5b",
   "metadata": {},
   "outputs": [],
   "source": [
    "#Loading the data from file\n",
    "df = pd.read_csv('simulation_data.csv')"
   ]
  },
  {
   "cell_type": "code",
   "execution_count": null,
   "id": "1cd2ce45-2e82-4bf5-9067-4562c31a9bae",
   "metadata": {},
   "outputs": [],
   "source": [
    "#plot by the arrival time for resus\n",
    "df['Arrival date/time']= pd.to_datetime(df['Arrival date/time'])\n",
    "df['Arrival date'] = df['Arrival date/time'].dt.date\n",
    "df['Arrival hour'] = df['Arrival date/time'].dt.hour"
   ]
  },
  {
   "cell_type": "markdown",
   "id": "024f6e77-2193-421d-8a1e-675cf09062ba",
   "metadata": {},
   "source": [
    "## Filter out data that are not NHS NOTTINGHAM AND NOTTINGHAMSHIRE CCG according to acuity "
   ]
  },
  {
   "cell_type": "code",
   "execution_count": null,
   "id": "68c95718-e222-41c6-a54e-78e62bc21362",
   "metadata": {},
   "outputs": [],
   "source": [
    "#filter out data that are not NHS NOTTINGHAM AND NOTTINGHAMSHIRE CCG according to acuity of resus\n",
    "CCG_Resus_df = df.query( 'CCG != \"NHS Nottingham and Nottinghamshire CCG\" and Acuity == \"Resus\" & `Arrival date/time` >= \"2023-02-01\"')\n",
    "CCG_Resus_df.head()"
   ]
  },
  {
   "cell_type": "code",
   "execution_count": null,
   "id": "2c1d8863-47ef-4514-9ee8-42a29d42bc66",
   "metadata": {},
   "outputs": [],
   "source": [
    "CCG_Major_df = df.query( 'CCG != \"NHS Nottingham and Nottinghamshire CCG\" and Acuity == \"Major\" & `Arrival date/time` >= \"2023-02-01\"')\n",
    "CCG_Major_df.head()"
   ]
  },
  {
   "cell_type": "code",
   "execution_count": null,
   "id": "f5e37239-876c-4b9a-b21f-1e64df969f19",
   "metadata": {},
   "outputs": [],
   "source": [
    "CCG_Minor_df= df.query( 'CCG != \"NHS Nottingham and Nottinghamshire CCG\" and Acuity == \"Minor\" & `Arrival date/time` >= \"2023-02-01\"')\n",
    "CCG_Minor_df.head()"
   ]
  },
  {
   "cell_type": "markdown",
   "id": "75148545-82ba-46e5-86b6-da2b00bfa12b",
   "metadata": {},
   "source": [
    "## Major Patients visiting ED Plot 1"
   ]
  },
  {
   "cell_type": "code",
   "execution_count": null,
   "id": "6cf950d4-25bf-421e-9186-de8836299175",
   "metadata": {},
   "outputs": [],
   "source": [
    "CCG_Major_df_g = CCG_Major_df.groupby(pd.Grouper(key=\"Arrival date/time\", freq=\"1D\"))['Acuity'].count()\n",
    "CCG_Major_df_g = pd.DataFrame(CCG_Major_df_g) \n",
    "CCG_Major_df_g.plot(lw=2,\n",
    "         title='Patients visting ED for Major')\n",
    "plt.xlabel('Date')\n",
    "plt.ylabel('Patients')\n",
    "plt.show()"
   ]
  },
  {
   "cell_type": "markdown",
   "id": "3a7ed27b-26a6-44ca-8cc6-eacbe976514f",
   "metadata": {},
   "source": [
    "## Minor Patients visiting ED Plot 2"
   ]
  },
  {
   "cell_type": "code",
   "execution_count": null,
   "id": "d2115970-0a73-4ac6-bd1f-48e2973e3c27",
   "metadata": {},
   "outputs": [],
   "source": [
    "CCG_Minor_df_g = CCG_Minor_df.groupby(pd.Grouper(key=\"Arrival date/time\", freq=\"1D\"))['Acuity'].count()\n",
    "CCG_Minor_df_g = pd.DataFrame(CCG_Minor_df_g) \n",
    "CCG_Minor_df_g.plot(lw=2,\n",
    "         title='Patients visting ED for Minor')\n",
    "plt.xlabel('Date')\n",
    "plt.ylabel('Patients')\n",
    "plt.show()"
   ]
  },
  {
   "cell_type": "markdown",
   "id": "f9f48157-e850-4eae-b533-f04a2c59a321",
   "metadata": {},
   "source": [
    "## Resus patients visiting the ED Plot 3"
   ]
  },
  {
   "cell_type": "code",
   "execution_count": null,
   "id": "6355ec96-b63a-4d74-9db6-6eb200262fb4",
   "metadata": {},
   "outputs": [],
   "source": [
    "CCG_Resus_df_g = CCG_Resus_df.groupby(pd.Grouper(key=\"Arrival date/time\", freq=\"1D\"))['Acuity'].count()\n",
    "CCG_Resus_df_g = pd.DataFrame(CCG_Resus_df_g) \n",
    "CCG_Resus_df_g.plot(lw=2,\n",
    "         title='Patients visting ED for Resus')\n",
    "plt.xlabel('Date')\n",
    "plt.ylabel('Patients')\n",
    "plt.show()"
   ]
  },
  {
   "cell_type": "markdown",
   "id": "0e6ae0e6-adbf-45a5-b6a1-2ccde4bdc75f",
   "metadata": {},
   "source": [
    "## Simulating Patients Coming In and Out of Different Ememrgency Departments "
   ]
  },
  {
   "cell_type": "code",
   "execution_count": null,
   "id": "9534bb78-1ab7-4a4c-9162-4b585c7abc62",
   "metadata": {},
   "outputs": [],
   "source": [
    "## ----DEF OF CONSTANTS----\n",
    "\n",
    "LENGTH_OF_STAY = {\n",
    "    'Major':, #sc\n",
    "    'Minor':, #sc\n",
    "    'Resus':, #sc\n",
    "}\n",
    "\n",
    "ARRIVALS_BEFORE_9 = {\n",
    "    'Major':, #sc\n",
    "    'Minor':, #sc\n",
    "    'Resus':, #sc\n",
    "}\n",
    "\n",
    "ARRIVALS_AFTER_9 = {\n",
    "    'Major':, #sc\n",
    "    'Minor':, #sc\n",
    "    'Resus':, #sc\n",
    "}\n",
    "\n",
    "SIMULATION_DURATION = 14 * 24  # Total simulation time in hours\n",
    "start_datetime = datetime(2023,2,1,0,0)\n",
    "MIN_PATIENCE_MINOR = 4\n",
    "MAX_PATIENCE_MINOR = 8"
   ]
  },
  {
   "cell_type": "code",
   "execution_count": null,
   "id": "1f91d90e-7af3-4900-9aeb-c1c531b45666",
   "metadata": {},
   "outputs": [],
   "source": [
    "\n",
    "## used for ploting dates within the plot_result function hence the name 'x'\n",
    "x = []\n",
    "for i in range(SIMULATION_DURATION):\n",
    "    current_time = start_datetime+ timedelta(hours=i)\n",
    "    x.append(current_time.strftime(\"%d-%H\"))\n",
    "\n",
    "\n",
    "# Data structures for tracking patient counts, occupancy, and queue lengths\n",
    "patient_count = {\n",
    "    'Major': np.zeros(SIMULATION_DURATION),\n",
    "    'Minor': np.zeros(SIMULATION_DURATION),\n",
    "    'Resus': np.zeros(SIMULATION_DURATION)\n",
    "}\n",
    "\n",
    "bed_usage = {\n",
    "    'Major': np.zeros(SIMULATION_DURATION),\n",
    "    'Minor': np.zeros(SIMULATION_DURATION),\n",
    "    'Resus': np.zeros(SIMULATION_DURATION)\n",
    "}\n",
    "\n",
    "queue_lengths = {\n",
    "    'Major': np.zeros(SIMULATION_DURATION),\n",
    "    'Minor': np.zeros(SIMULATION_DURATION),\n",
    "    'Resus': np.zeros(SIMULATION_DURATION)\n",
    "}\n",
    "\n",
    "total_occupancy = {\n",
    "    'Major': np.zeros(SIMULATION_DURATION),\n",
    "    'Minor': np.zeros(SIMULATION_DURATION),\n",
    "    'Resus': np.zeros(SIMULATION_DURATION)\n",
    "}\n",
    "## ---used temp storage to hold data about patient arrival, stay and wait time with patient_id' \n",
    "patient_data = []\n",
    "patient_id = 0\n"
   ]
  },
  {
   "cell_type": "code",
   "execution_count": null,
   "id": "3171c4e7-2bf6-43b7-98a5-adc15a7de54a",
   "metadata": {},
   "outputs": [],
   "source": [
    "## -- Checks when the patient arrives either before 9 or after for all acuities, tracking their length of stay --\n",
    "\n",
    "def patient_arrival(env, major_resource, minor_resource, resus_resource, ARRIVALS_BEFORE_9, ARRIVALS_AFTER_9, LENGTH_OF_STAY, patient_count):\n",
    "    global patient_id\n",
    "    while True:\n",
    "        current_hour = env.now % 24\n",
    "        if current_hour <= 9:\n",
    "            n_major = np.random.poisson(lam=ARRIVALS_BEFORE_9['Major'],size=1)\n",
    "            n_minor = np.random.poisson(lam=ARRIVALS_BEFORE_9['Minor'],size=1)\n",
    "            n_resus = np.random.poisson(lam=ARRIVALS_BEFORE_9['Resus'],size=1)\n",
    "        else:\n",
    "            n_major = np.random.poisson(lam=ARRIVALS_AFTER_9['Major'],size=1)\n",
    "            n_minor = np.random.poisson(lam=ARRIVALS_AFTER_9['Minor'],size=1)\n",
    "            n_resus = np.random.poisson(lam=ARRIVALS_AFTER_9['Resus'],size=1)\n",
    "\n",
    "        for _ in np.arange(0, n_major):\n",
    "            stay_duration = np.random.poisson(lam=LENGTH_OF_STAY['Major'],size=1)\n",
    "            patient_id += 1\n",
    "            env.process(handle_patient(env, patient_id,'Major', stay_duration, patient_count, major_resource))\n",
    "\n",
    "        for _ in np.arange(0, n_minor):\n",
    "            stay_duration = np.random.poisson(lam=LENGTH_OF_STAY['Minor'],size=1)\n",
    "            patient_id += 1\n",
    "            env.process(handle_patient(env,patient_id, 'Minor', stay_duration, patient_count, minor_resource))\n",
    "\n",
    "        for _ in np.arange(0, n_resus):\n",
    "            stay_duration = np.random.poisson(lam=LENGTH_OF_STAY['Resus'],size=1)\n",
    "            patient_id += 1\n",
    "            env.process(handle_patient(env, patient_id,'Resus', stay_duration, patient_count, resus_resource))\n",
    "\n",
    "        yield env.timeout(1)"
   ]
  },
  {
   "cell_type": "code",
   "execution_count": null,
   "id": "3b7af84a-0bd5-478c-af68-afc6429d445f",
   "metadata": {},
   "outputs": [],
   "source": [
    "## -- Tracks the patients start time since the moment they arrive, get a bed and when they leave to get most accurate results using simulation time \n",
    "## and resources and if patients such as Minor patients do not get beds they will be reneged i.e., sent home ------\n",
    "\n",
    "def handle_patient(env, patient_id, acuity, stay_duration, patient_count, resource):\n",
    "    global patient_data, wait_time\n",
    "    start_time = int(env.now)\n",
    "    patient_count[acuity][start_time] += 1\n",
    "    total_occupancy[acuity][start_time] += 1 \n",
    "    \n",
    "    if acuity == 'Minor':\n",
    "        reneging_time = random.uniform(MIN_PATIENCE_MINOR, MAX_PATIENCE_MINOR)\n",
    "        with resource.request() as req:\n",
    "            result = yield req | env.timeout(reneging_time)\n",
    "            if req in result:\n",
    "                bed_assinged_time = int(env.now)\n",
    "                wait_time = bed_assinged_time - start_time\n",
    "                patient_data.append({'Id':patient_id,\n",
    "                                     'Acuity':acuity,\n",
    "                                     'Start_Time':start_time,\n",
    "                                     'Wait_Time':wait_time\n",
    "                                    })\n",
    "                yield env.timeout(stay_duration)\n",
    "                end_time = int(env.now)\n",
    "                patient_count[acuity][end_time] -= 1\n",
    "            else:\n",
    "                renege_time = int(env.now)\n",
    "                patient_data.append({'Id':patient_id,\n",
    "                                     'Acuity':acuity,\n",
    "                                     'Start_Time':start_time,\n",
    "                                     'Wait_Time':wait_time\n",
    "                                    })\n",
    "                patient_count[acuity][renege_time] -= 1\n",
    "                print(f'patient has reneged {patient_id} at time:{renege_time}')  \n",
    "    else:\n",
    "        with resource.request() as req:\n",
    "            yield req\n",
    "            bed_assinged_time = int(env.now)\n",
    "            wait_time = bed_assinged_time - start_time\n",
    "            patient_data.append({'Id':patient_id,\n",
    "                                 'Acuity':acuity,\n",
    "                                 'Start_Time':start_time,\n",
    "                                 'Wait_Time':wait_time\n",
    "                                })\n",
    "            yield env.timeout(stay_duration)\n",
    "            end_time = int(env.now)\n",
    "            patient_count[acuity][end_time] -= 1"
   ]
  },
  {
   "cell_type": "code",
   "execution_count": null,
   "id": "2b5073d9-13b3-4e95-8042-0c87707c59f9",
   "metadata": {},
   "outputs": [],
   "source": [
    "## collects information about each department and how the long the queues are within each departmenet\n",
    "def collect_data(env, major_resource, minor_resource, resus_resource):\n",
    "    global bed_usage, queue_lengths\n",
    "    while True:\n",
    "        bed_usage['Major'][int(env.now)] = major_resource.count\n",
    "        bed_usage['Minor'][int(env.now)] = minor_resource.count\n",
    "        bed_usage['Resus'][int(env.now)] = resus_resource.count\n",
    "        \n",
    "        queue_lengths['Major'][int(env.now)] = len(major_resource.queue)\n",
    "        queue_lengths['Minor'][int(env.now)] = len(minor_resource.queue)\n",
    "        queue_lengths['Resus'][int(env.now)] = len(resus_resource.queue)\n",
    "\n",
    "        yield env.timeout(1)"
   ]
  },
  {
   "cell_type": "code",
   "execution_count": null,
   "id": "a08c06fd-3f6f-4a51-aa41-edf6b6036d04",
   "metadata": {},
   "outputs": [],
   "source": [
    "## --------------------------------------------MAIN FUNCTION FOR STARTING THE SIMULATION --------------------------------------------\n",
    "def start_simulation(major_beds, minor_beds, resus_beds):\n",
    "    global bed_usage, queue_lengths\n",
    "    random.seed(42)\n",
    "    env = simpy.Environment()\n",
    "    # Create separate resources for each acuity\n",
    "    major_resource = simpy.Resource(env, capacity=major_beds)\n",
    "    minor_resource = simpy.Resource(env, capacity=minor_beds)\n",
    "    resus_resource = simpy.Resource(env, capacity=resus_beds)\n",
    "\n",
    "    env.process(patient_arrival(env, major_resource, minor_resource, resus_resource, ARRIVALS_BEFORE_9, ARRIVALS_AFTER_9, LENGTH_OF_STAY, patient_count))\n",
    "    env.process(collect_data(env, major_resource, minor_resource, resus_resource))\n",
    "    env.run(until=simulation_duration)\n",
    "\n",
    "    return patient_count"
   ]
  },
  {
   "cell_type": "code",
   "execution_count": null,
   "id": "a3a3de51-532d-4bea-8077-0ffd9f2f6493",
   "metadata": {},
   "outputs": [],
   "source": [
    "##---------------------------- CALCULATING THE AVERAGE WAIT TIME AND CONVERTING RESULTS INTO PLOTS----------------------------\n",
    "def calculate_average_wait_time(patient_data):\n",
    "    \n",
    "    df_patient = pd.DataFrame(patient_data)\n",
    "    df_patient['Hour'] = df_patient['Start_Time']\n",
    "    average_wait_time = df_patient.groupby(['Hour','Acuity'])['Wait_Time'].mean().unstack().fillna(0)\n",
    "    return average_wait_time\n",
    "\n",
    "def calculate_wait_time_perecentiles(average_wait_time):\n",
    "    acuities = ['Major','Minor', 'Resus']\n",
    "    percent_under_threshold = {}\n",
    "    for acuity in acuities:\n",
    "        percent=average_wait_time[acuity].quantile(0.76)\n",
    "        print(f'{acuity} has value at 76% = {percent}')\n",
    "        percent_under_threshold[acuity]=percent\n",
    "    return percent_under_threshold\n",
    "        \n",
    "    "
   ]
  },
  {
   "cell_type": "code",
   "execution_count": null,
   "id": "1de123bb-e333-475a-a6ca-9d96f99d45d0",
   "metadata": {},
   "outputs": [],
   "source": [
    "##---------------------- PLOT FUNCTIONS FOR PLOTTING RESULTS INTO GRAPHS ---------------------- \n",
    "def plot_results(patient_count, bed_usage, queue_lengths, total_beds, total_occupancy, x):\n",
    "    \n",
    "    ##ADJUSTING THE GRAPH SIZE \n",
    "    plt.figure(figsize=(12, 10))\n",
    "    \n",
    "    # Plot occupancy over time for each acuity\n",
    "    plt.subplot(3, 1, 1)\n",
    "    plt.plot(x, bed_usage['Major'], label='Major Beds Occupied', color='red')\n",
    "    plt.plot(x, bed_usage['Minor'], label='Minor Beds Occupied', color='green')\n",
    "    plt.plot(x, bed_usage['Resus'], label='Resus Beds Occupied', color='blue')\n",
    "    plt.xlabel(\"Time (Date)\")\n",
    "    plt.ylabel(\"Beds Occupied\")\n",
    "    plt.title(f\"Beds Occupied over Time (Total Beds = {total_beds})\")\n",
    "    plt.legend()\n",
    "    plt.xticks(np.arange(0,len(x), step=24), x[::24],rotation=45)\n",
    "\n",
    "    #Plot queue length over time for each acuity\n",
    "    plt.subplot(3, 1, 2)\n",
    "    plt.plot(x, queue_lengths['Major'], label='Major Queue Length', color='red')\n",
    "    plt.plot(x, queue_lengths['Minor'], label='Minor Queue Length', color='green')\n",
    "    plt.plot(x, queue_lengths['Resus'], label='Resus Queue Length', color='blue')\n",
    "    plt.xlabel(\"Time (date)\")\n",
    "    plt.ylabel(\"Queue Length\")\n",
    "    plt.title(\"Queue Length over Time\")\n",
    "    plt.legend()\n",
    "    plt.xticks(np.arange(0,len(x), step=24), x[::24],rotation=45)\n",
    "\n",
    "    ## CALCULATING THE TOTAL SUM OF EACH FOR EACH ACUITIY\n",
    "    Major_cumsum = (total_occupancy['Major'])\n",
    "    Minor_cumsum = (total_occupancy['Minor'])\n",
    "    Resus_cumsum = (total_occupancy['Resus'])\n",
    "    ## PLOTTING THE TOTAL RESULT FOR EACH ACUITY \n",
    "    plt.subplot(3, 1, 3)\n",
    "    plt.plot(x, Major_cumsum, label='Major Bed Usage', color='red')\n",
    "    plt.plot(x, Minor_cumsum, label='Minor Bed Usage', color='green')\n",
    "    plt.plot(x, Resus_cumsum, label='Resus Bed Usage', color='blue')\n",
    "    plt.xlabel(\"Time (date)\")\n",
    "    plt.ylabel(\"Beds requested\")\n",
    "    plt.title(\"Bed Usage over Time\")\n",
    "    plt.legend()\n",
    "    plt.xticks(np.arange(0,len(x), step=24), x[::24],rotation=45)\n",
    "    plt.tight_layout()\n",
    "    plt.show()\n",
    "## PLOTTING AVERAGE WAIT TIME \n",
    "def plot_average_wait_time(average_wait_time, x):\n",
    "    plt.figure(figsize=(10,6))\n",
    "    for acuity in average_wait_time.columns:\n",
    "        plt.plot(x[:len(average_wait_time)], average_wait_time[acuity], label = f'{acuity} Average Wait time')\n",
    "    plt.xlabel('simulation hours')\n",
    "    plt.ylabel('Average wait time')\n",
    "    plt.grid(True)\n",
    "    plt.legend()\n",
    "    plt.xticks(np.arange(0,len(x), step=24), x[::24],rotation=45)"
   ]
  },
  {
   "cell_type": "code",
   "execution_count": null,
   "id": "3cdd9653-086a-4b68-949a-fa772638623d",
   "metadata": {},
   "outputs": [],
   "source": [
    "## MEMORY CLEANING\n",
    "def garbage_collector():\n",
    "    global patient_count, bed_usage, queue_lengths ,total_occupancy,average_wait_time, patient_data\n",
    "\n",
    "    for key in patient_count:\n",
    "        patient_count[key] = np.zeros(simulation_duration)\n",
    "    \n",
    "    for key in bed_usage:\n",
    "            bed_usage[key] = np.zeros(simulation_duration)\n",
    "\n",
    "    for key in queue_lengths:\n",
    "            queue_lengths[key] = np.zeros(simulation_duration)\n",
    "    \n",
    "    for key in total_occupancy:\n",
    "            total_occupancy[key] = np.zeros(simulation_duration)\n",
    "    \n",
    "    patient_data = [] ##empty list\n",
    "    average_wait_time = pd.DataFrame()"
   ]
  },
  {
   "cell_type": "markdown",
   "id": "665f577e-2eb3-45ae-a550-ba5009c7d755",
   "metadata": {},
   "source": [
    "## Calling of All Needed Functions"
   ]
  },
  {
   "cell_type": "code",
   "execution_count": null,
   "id": "27391714-273a-4d5e-bd78-b7d71d26998f",
   "metadata": {},
   "outputs": [],
   "source": [
    "##ADJUSTING THE PARAMETERS AND CALLING ALL FUNCTIONS \n",
    "garbage_collector()\n",
    "\n",
    "major_beds = 110\n",
    "minor_beds = 35\n",
    "resus_beds = 16\n",
    "total_beds = major_beds + minor_beds + resus_beds\n",
    "patient_count = start_simulation(major_beds, minor_beds, resus_beds)\n",
    "df_patient_data = pd.DataFrame(patient_data)\n",
    "\n",
    "average_wait_time = calculate_average_wait_time(patient_data)\n",
    "\n",
    "plot_results(patient_count, bed_usage, queue_lengths, total_beds, total_occupancy,x)\n",
    "plot_average_wait_time(average_wait_time,x)\n",
    "\n",
    "percent_under_threshold = calculate_wait_time_perecentiles(average_wait_time)"
   ]
  },
  {
   "cell_type": "code",
   "execution_count": null,
   "id": "636a500e-411a-4570-bcb7-cf76856e9510",
   "metadata": {},
   "outputs": [],
   "source": [
    "print(f'Calculating the staff need per bed (Major)')\n",
    "major_staff = major_beds * 0.3\n",
    "print(int(major_staff))"
   ]
  },
  {
   "cell_type": "code",
   "execution_count": null,
   "id": "56ddeee6-510b-473e-a10a-49a4b3e20533",
   "metadata": {},
   "outputs": [],
   "source": [
    "print(f'Calculating the staff need per bed (Minor)')\n",
    "minor_staff = minor_beds * 0.3\n",
    "print(int(minor_staff))"
   ]
  },
  {
   "cell_type": "code",
   "execution_count": null,
   "id": "a6a15b0d-5dac-4239-8bb9-e3abf2814188",
   "metadata": {},
   "outputs": [],
   "source": [
    "print(f'Calculating the staff need per bed (Resus)')\n",
    "resus_staff = resus_beds * 0.3\n",
    "print(int(resus_staff))"
   ]
  }
 ],
 "metadata": {
  "kernelspec": {
   "display_name": "Python 3 (ipykernel)",
   "language": "python",
   "name": "python3"
  },
  "language_info": {
   "codemirror_mode": {
    "name": "ipython",
    "version": 3
   },
   "file_extension": ".py",
   "mimetype": "text/x-python",
   "name": "python",
   "nbconvert_exporter": "python",
   "pygments_lexer": "ipython3",
   "version": "3.12.4"
  }
 },
 "nbformat": 4,
 "nbformat_minor": 5
}
